{
  "cells": [
    {
      "cell_type": "code",
      "execution_count": null,
      "id": "702f7bbd",
      "metadata": {
        "execution": {
          "iopub.execute_input": "2023-05-09T10:36:22.205179Z",
          "iopub.status.busy": "2023-05-09T10:36:22.204745Z",
          "iopub.status.idle": "2023-05-09T10:36:22.209962Z",
          "shell.execute_reply": "2023-05-09T10:36:22.209015Z"
        },
        "papermill": {
          "duration": 0.017618,
          "end_time": "2023-05-09T10:36:22.213317",
          "exception": false,
          "start_time": "2023-05-09T10:36:22.195699",
          "status": "completed"
        },
        "tags": [],
        "id": "702f7bbd"
      },
      "outputs": [],
      "source": [
        "# !pip install ../input/birds-inference-pip-wheels/torchaudio-0.8.1-cp37-cp37m-manylinux1_x86_64.whl ../input/birds-inference-pip-wheels/torch-1.8.1-cp37-cp37m-manylinux1_x86_64.whl\n",
        "# !pip install ../input/birds-inference-pip-wheels/timm-0.4.8.zip --no-index --no-deps\n",
        "# #!pip install ../input/birdclef21trainmeta/timm-0.4.9_23052021/pytorch-image-models-master --no-index --no-deps\n",
        "# !pip install ../input/birds-inference-pip-wheels/audiomentations-0.16.0-py3-none-any.whl --no-index --no-deps\n",
        "# !pip install ../input/birds-inference-pip-wheels/torchlibrosa-0.0.9-py3-none-any.whl --no-index --no-deps"
      ]
    },
    {
      "cell_type": "code",
      "execution_count": null,
      "id": "7fe75109",
      "metadata": {
        "execution": {
          "iopub.execute_input": "2023-05-09T10:36:22.224876Z",
          "iopub.status.busy": "2023-05-09T10:36:22.224015Z",
          "iopub.status.idle": "2023-05-09T10:36:27.893504Z",
          "shell.execute_reply": "2023-05-09T10:36:27.892534Z"
        },
        "papermill": {
          "duration": 5.677333,
          "end_time": "2023-05-09T10:36:27.895681",
          "exception": false,
          "start_time": "2023-05-09T10:36:22.218348",
          "status": "completed"
        },
        "tags": [],
        "id": "7fe75109",
        "outputId": "5f8f98f2-2b97-44c4-d23d-581b17e425a3"
      },
      "outputs": [
        {
          "data": {
            "text/plain": [
              "'0.6.13'"
            ]
          },
          "execution_count": 2,
          "metadata": {},
          "output_type": "execute_result"
        }
      ],
      "source": [
        "import timm\n",
        "timm.__version__"
      ]
    },
    {
      "cell_type": "markdown",
      "id": "176dc60c",
      "metadata": {
        "papermill": {
          "duration": 0.005256,
          "end_time": "2023-05-09T10:36:27.906368",
          "exception": false,
          "start_time": "2023-05-09T10:36:27.901112",
          "status": "completed"
        },
        "tags": [],
        "id": "176dc60c"
      },
      "source": [
        "# Imports"
      ]
    },
    {
      "cell_type": "code",
      "execution_count": null,
      "id": "40285279",
      "metadata": {
        "execution": {
          "iopub.execute_input": "2023-05-09T10:36:27.917949Z",
          "iopub.status.busy": "2023-05-09T10:36:27.917671Z",
          "iopub.status.idle": "2023-05-09T10:36:36.138392Z",
          "shell.execute_reply": "2023-05-09T10:36:36.137358Z"
        },
        "papermill": {
          "duration": 8.229444,
          "end_time": "2023-05-09T10:36:36.140865",
          "exception": false,
          "start_time": "2023-05-09T10:36:27.911421",
          "status": "completed"
        },
        "tags": [],
        "id": "40285279",
        "outputId": "b1fe491f-9ff4-4a47-d3a3-28720c858ba6"
      },
      "outputs": [
        {
          "name": "stderr",
          "output_type": "stream",
          "text": [
            "/opt/conda/lib/python3.10/site-packages/scipy/__init__.py:146: UserWarning: A NumPy version >=1.16.5 and <1.23.0 is required for this version of SciPy (detected version 1.23.5\n",
            "  warnings.warn(f\"A NumPy version >={np_minversion} and <{np_maxversion}\"\n"
          ]
        }
      ],
      "source": [
        "import pandas as pd\n",
        "import timm\n",
        "from torch import nn\n",
        "import torch\n",
        "import torchaudio as ta\n",
        "from torch.cuda.amp import autocast\n",
        "import random\n",
        "\n",
        "from torch.nn import functional as F\n",
        "from torch.distributions import Beta\n",
        "from torch.nn.parameter import Parameter\n",
        "from torch.utils.data import Dataset\n",
        "\n",
        "import numpy as np\n",
        "import librosa\n",
        "import ast\n",
        "\n",
        "import os\n",
        "from types import SimpleNamespace\n",
        "import numpy as np\n",
        "\n",
        "import numpy as np\n",
        "import pandas as pd\n",
        "import importlib\n",
        "import sys\n",
        "import random\n",
        "from tqdm import tqdm\n",
        "import gc\n",
        "import argparse\n",
        "import torch\n",
        "from torch import optim\n",
        "from torch.cuda.amp import GradScaler, autocast\n",
        "from collections import defaultdict\n",
        "import cv2\n",
        "from copy import copy\n",
        "import os\n",
        "from transformers import get_cosine_schedule_with_warmup\n",
        "from torch.utils.data import SequentialSampler, DataLoader\n",
        "import warnings\n",
        "import torchaudio\n",
        "warnings.filterwarnings(\"ignore\")"
      ]
    },
    {
      "cell_type": "code",
      "execution_count": null,
      "id": "04a3ca43",
      "metadata": {
        "execution": {
          "iopub.execute_input": "2023-05-09T10:36:36.155025Z",
          "iopub.status.busy": "2023-05-09T10:36:36.153284Z",
          "iopub.status.idle": "2023-05-09T10:36:36.160055Z",
          "shell.execute_reply": "2023-05-09T10:36:36.158848Z"
        },
        "papermill": {
          "duration": 0.01545,
          "end_time": "2023-05-09T10:36:36.162112",
          "exception": false,
          "start_time": "2023-05-09T10:36:36.146662",
          "status": "completed"
        },
        "tags": [],
        "id": "04a3ca43"
      },
      "outputs": [],
      "source": [
        "def set_seed(seed=1234):\n",
        "    random.seed(seed)\n",
        "    os.environ[\"PYTHONHASHSEED\"] = str(seed)\n",
        "    np.random.seed(seed)\n",
        "    torch.manual_seed(seed)\n",
        "    torch.cuda.manual_seed(seed)\n",
        "    torch.backends.cudnn.deterministic = False\n",
        "    torch.backends.cudnn.benchmark = True"
      ]
    },
    {
      "cell_type": "markdown",
      "id": "f344dbd9",
      "metadata": {
        "papermill": {
          "duration": 0.005316,
          "end_time": "2023-05-09T10:36:36.172670",
          "exception": false,
          "start_time": "2023-05-09T10:36:36.167354",
          "status": "completed"
        },
        "tags": [],
        "id": "f344dbd9"
      },
      "source": [
        "# Config"
      ]
    },
    {
      "cell_type": "code",
      "execution_count": null,
      "id": "a2e7f91e",
      "metadata": {
        "execution": {
          "iopub.execute_input": "2023-05-09T10:36:36.184558Z",
          "iopub.status.busy": "2023-05-09T10:36:36.184275Z",
          "iopub.status.idle": "2023-05-09T10:36:36.311989Z",
          "shell.execute_reply": "2023-05-09T10:36:36.311141Z"
        },
        "papermill": {
          "duration": 0.135927,
          "end_time": "2023-05-09T10:36:36.313810",
          "exception": false,
          "start_time": "2023-05-09T10:36:36.177883",
          "status": "completed"
        },
        "tags": [],
        "id": "a2e7f91e",
        "outputId": "45ac9082-fd7e-4a1d-8ac5-e5721480a1a4"
      },
      "outputs": [
        {
          "data": {
            "text/plain": [
              "namespace(data_folder='',\n",
              "          name='julian',\n",
              "          data_dir='../input/birdclef-2023/',\n",
              "          train_data_folder='../input/birdclef-2023/train_audio/',\n",
              "          val_data_folder='../input/birdclef-2023/train_audio/',\n",
              "          output_dir='pre_model_multi_drop_v4',\n",
              "          dataset='base_ds',\n",
              "          min_rating=2.0,\n",
              "          val_df=None,\n",
              "          batch_size_val=16,\n",
              "          train_aug=None,\n",
              "          val_aug=None,\n",
              "          test_augs=None,\n",
              "          wav_len_val=5,\n",
              "          wav_crop_len=30,\n",
              "          img_height=256,\n",
              "          img_weight=512,\n",
              "          window_size=2048,\n",
              "          sample_rate=32000,\n",
              "          fmin=16,\n",
              "          fmax=16386,\n",
              "          power=2,\n",
              "          mel_bins=256,\n",
              "          hop_size=512,\n",
              "          top_db=80.0,\n",
              "          pretrained=True,\n",
              "          pretrained_weights=None,\n",
              "          train=True,\n",
              "          val=False,\n",
              "          in_chans=1,\n",
              "          alpha=1,\n",
              "          eval_epochs=1,\n",
              "          eval_train_epochs=1,\n",
              "          warmup=0,\n",
              "          mel_norm=False,\n",
              "          label_smoothing=0,\n",
              "          remove_pretrained=[],\n",
              "          seed=123,\n",
              "          save_val_data=True,\n",
              "          mixed_precision=True,\n",
              "          gpu=0,\n",
              "          num_workers=4,\n",
              "          drop_last=True,\n",
              "          mixup2=0,\n",
              "          mixup_2x=False,\n",
              "          birds=array(['abethr1', 'abhori1', 'abythr1', 'afbfly1', 'afdfly1', 'afecuc1',\n",
              "                       'affeag1', 'afgfly1', 'afghor1', 'afmdov1', 'afpfly1', 'afpkin1',\n",
              "                       'afpwag1', 'afrgos1', 'afrgrp1', 'afrjac1', 'afrthr1', 'amesun2',\n",
              "                       'augbuz1', 'bagwea1', 'barswa', 'bawhor2', 'bawman1', 'bcbeat1',\n",
              "                       'beasun2', 'bkctch1', 'bkfruw1', 'blacra1', 'blacuc1', 'blakit1',\n",
              "                       'blaplo1', 'blbpuf2', 'blcapa2', 'blfbus1', 'blhgon1', 'blhher1',\n",
              "                       'blksaw1', 'blnmou1', 'blnwea1', 'bltapa1', 'bltbar1', 'bltori1',\n",
              "                       'blwlap1', 'brcale1', 'brcsta1', 'brctch1', 'brcwea1', 'brican1',\n",
              "                       'brobab1', 'broman1', 'brosun1', 'brrwhe3', 'brtcha1', 'brubru1',\n",
              "                       'brwwar1', 'bswdov1', 'btweye2', 'bubwar2', 'butapa1', 'cabgre1',\n",
              "                       'carcha1', 'carwoo1', 'categr', 'ccbeat1', 'chespa1', 'chewea1',\n",
              "                       'chibat1', 'chtapa3', 'chucis1', 'cibwar1', 'cohmar1', 'colsun2',\n",
              "                       'combul2', 'combuz1', 'comsan', 'crefra2', 'crheag1', 'crohor1',\n",
              "                       'darbar1', 'darter3', 'didcuc1', 'dotbar1', 'dutdov1', 'easmog1',\n",
              "                       'eaywag1', 'edcsun3', 'egygoo', 'equaka1', 'eswdov1', 'eubeat1',\n",
              "                       'fatrav1', 'fatwid1', 'fislov1', 'fotdro5', 'gabgos2', 'gargan',\n",
              "                       'gbesta1', 'gnbcam2', 'gnhsun1', 'gobbun1', 'gobsta5', 'gobwea1',\n",
              "                       'golher1', 'grbcam1', 'grccra1', 'grecor', 'greegr', 'grewoo2',\n",
              "                       'grwpyt1', 'gryapa1', 'grywrw1', 'gybfis1', 'gycwar3', 'gyhbus1',\n",
              "                       'gyhkin1', 'gyhneg1', 'gyhspa1', 'gytbar1', 'hadibi1', 'hamerk1',\n",
              "                       'hartur1', 'helgui', 'hipbab1', 'hoopoe', 'huncis1', 'hunsun2',\n",
              "                       'joygre1', 'kerspa2', 'klacuc1', 'kvbsun1', 'laudov1', 'lawgol',\n",
              "                       'lesmaw1', 'lessts1', 'libeat1', 'litegr', 'litswi1', 'litwea1',\n",
              "                       'loceag1', 'lotcor1', 'lotlap1', 'luebus1', 'mabeat1', 'macshr1',\n",
              "                       'malkin1', 'marsto1', 'marsun2', 'mcptit1', 'meypar1', 'moccha1',\n",
              "                       'mouwag1', 'ndcsun2', 'nobfly1', 'norbro1', 'norcro1', 'norfis1',\n",
              "                       'norpuf1', 'nubwoo1', 'pabspa1', 'palfly2', 'palpri1', 'piecro1',\n",
              "                       'piekin1', 'pitwhy', 'purgre2', 'pygbat1', 'quailf1', 'ratcis1',\n",
              "                       'raybar1', 'rbsrob1', 'rebfir2', 'rebhor1', 'reboxp1', 'reccor',\n",
              "                       'reccuc1', 'reedov1', 'refbar2', 'refcro1', 'reftin1', 'refwar2',\n",
              "                       'rehblu1', 'rehwea1', 'reisee2', 'rerswa1', 'rewsta1', 'rindov',\n",
              "                       'rocmar2', 'rostur1', 'ruegls1', 'rufcha2', 'sacibi2', 'sccsun2',\n",
              "                       'scrcha1', 'scthon1', 'shesta1', 'sichor1', 'sincis1', 'slbgre1',\n",
              "                       'slcbou1', 'sltnig1', 'sobfly1', 'somgre1', 'somtit4', 'soucit1',\n",
              "                       'soufis1', 'spemou2', 'spepig1', 'spewea1', 'spfbar1', 'spfwea1',\n",
              "                       'spmthr1', 'spwlap1', 'squher1', 'strher', 'strsee1', 'stusta1',\n",
              "                       'subbus1', 'supsta1', 'tacsun1', 'tafpri1', 'tamdov1', 'thrnig1',\n",
              "                       'trobou1', 'varsun2', 'vibsta2', 'vilwea1', 'vimwea1', 'walsta1',\n",
              "                       'wbgbir1', 'wbrcha2', 'wbswea1', 'wfbeat1', 'whbcan1', 'whbcou1',\n",
              "                       'whbcro2', 'whbtit5', 'whbwea1', 'whbwhe3', 'whcpri2', 'whctur2',\n",
              "                       'wheslf1', 'whhsaw1', 'whihel1', 'whrshr1', 'witswa1', 'wlwwar',\n",
              "                       'wookin1', 'woosan', 'wtbeat1', 'yebapa1', 'yebbar1', 'yebduc1',\n",
              "                       'yebere1', 'yebgre1', 'yebsto1', 'yeccan1', 'yefcan', 'yelbis1',\n",
              "                       'yenspu1', 'yertin1', 'yesbar1', 'yespet1', 'yetgre1', 'yewgre1'],\n",
              "                      dtype='<U7'),\n",
              "          n_classes=264,\n",
              "          lr=0.001,\n",
              "          epochs=30,\n",
              "          batch_size=64,\n",
              "          backbone='resnet34',\n",
              "          mixup=True,\n",
              "          mix_beta=1,\n",
              "          train_df1='../input/birdclef-2023/train_metadata.csv',\n",
              "          train_df2='../input/birdclef-22-duration/train_metadata_with_duration.csv',\n",
              "          device='cuda',\n",
              "          tr_collate_fn=None,\n",
              "          val_collate_fn=None,\n",
              "          dev=False)"
            ]
          },
          "execution_count": 5,
          "metadata": {},
          "output_type": "execute_result"
        }
      ],
      "source": [
        "cfg = SimpleNamespace()\n",
        "\n",
        "# paths\n",
        "cfg.data_folder = ''\n",
        "cfg.name = \"julian\"\n",
        "cfg.data_dir = \"../input/birdclef-2023/\"\n",
        "cfg.train_data_folder = cfg.data_dir + \"train_audio/\"\n",
        "cfg.val_data_folder = cfg.data_dir + \"train_audio/\"\n",
        "cfg.output_dir = \"pre_model_multi_drop_v4\"\n",
        "\n",
        "# dataset\n",
        "cfg.dataset = \"base_ds\"\n",
        "cfg.min_rating = 0\n",
        "cfg.val_df = None\n",
        "cfg.batch_size_val = 1\n",
        "cfg.train_aug = None\n",
        "cfg.val_aug = None\n",
        "cfg.test_augs = None\n",
        "cfg.wav_len_val = 5  # seconds\n",
        "cfg.min_rating = 2.0\n",
        "cfg.wav_crop_len = 30  # seconds\n",
        "# audio\n",
        "cfg.img_height = 256\n",
        "cfg.img_weight = 512\n",
        "cfg.window_size = 2048\n",
        "cfg.sample_rate = 32000\n",
        "cfg.fmin = 16\n",
        "cfg.fmax = 16386\n",
        "cfg.power = 2\n",
        "cfg.mel_bins = cfg.img_height\n",
        "cfg.hop_size = 512 # int(cfg.sample_rate * cfg.wav_crop_len / (cfg.img_weight - 1))\n",
        "cfg.top_db = 80.0\n",
        "\n",
        "# img model\n",
        "\n",
        "cfg.pretrained = True\n",
        "cfg.pretrained_weights = None\n",
        "cfg.train = True\n",
        "cfg.val = False\n",
        "cfg.in_chans = 1\n",
        "\n",
        "cfg.alpha = 1\n",
        "cfg.eval_epochs = 1\n",
        "cfg.eval_train_epochs = 1\n",
        "cfg.warmup = 0\n",
        "\n",
        "cfg.mel_norm = False\n",
        "\n",
        "cfg.label_smoothing = 0\n",
        "\n",
        "cfg.remove_pretrained = []\n",
        "\n",
        "# training\n",
        "cfg.seed = 123\n",
        "cfg.save_val_data = True\n",
        "\n",
        "# ressources\n",
        "cfg.mixed_precision = True\n",
        "cfg.gpu = 0\n",
        "cfg.num_workers = 4 # 18\n",
        "cfg.drop_last = True\n",
        "\n",
        "cfg.mixup2 = 0\n",
        "\n",
        "cfg.label_smoothing = 0\n",
        "\n",
        "cfg.mixup_2x = False\n",
        "\n",
        "\n",
        "cfg.birds = np.array(['abethr1', 'abhori1', 'abythr1', 'afbfly1', 'afdfly1', 'afecuc1',\n",
        "       'affeag1', 'afgfly1', 'afghor1', 'afmdov1', 'afpfly1', 'afpkin1',\n",
        "       'afpwag1', 'afrgos1', 'afrgrp1', 'afrjac1', 'afrthr1', 'amesun2',\n",
        "       'augbuz1', 'bagwea1', 'barswa', 'bawhor2', 'bawman1', 'bcbeat1',\n",
        "       'beasun2', 'bkctch1', 'bkfruw1', 'blacra1', 'blacuc1', 'blakit1',\n",
        "       'blaplo1', 'blbpuf2', 'blcapa2', 'blfbus1', 'blhgon1', 'blhher1',\n",
        "       'blksaw1', 'blnmou1', 'blnwea1', 'bltapa1', 'bltbar1', 'bltori1',\n",
        "       'blwlap1', 'brcale1', 'brcsta1', 'brctch1', 'brcwea1', 'brican1',\n",
        "       'brobab1', 'broman1', 'brosun1', 'brrwhe3', 'brtcha1', 'brubru1',\n",
        "       'brwwar1', 'bswdov1', 'btweye2', 'bubwar2', 'butapa1', 'cabgre1',\n",
        "       'carcha1', 'carwoo1', 'categr', 'ccbeat1', 'chespa1', 'chewea1',\n",
        "       'chibat1', 'chtapa3', 'chucis1', 'cibwar1', 'cohmar1', 'colsun2',\n",
        "       'combul2', 'combuz1', 'comsan', 'crefra2', 'crheag1', 'crohor1',\n",
        "       'darbar1', 'darter3', 'didcuc1', 'dotbar1', 'dutdov1', 'easmog1',\n",
        "       'eaywag1', 'edcsun3', 'egygoo', 'equaka1', 'eswdov1', 'eubeat1',\n",
        "       'fatrav1', 'fatwid1', 'fislov1', 'fotdro5', 'gabgos2', 'gargan',\n",
        "       'gbesta1', 'gnbcam2', 'gnhsun1', 'gobbun1', 'gobsta5', 'gobwea1',\n",
        "       'golher1', 'grbcam1', 'grccra1', 'grecor', 'greegr', 'grewoo2',\n",
        "       'grwpyt1', 'gryapa1', 'grywrw1', 'gybfis1', 'gycwar3', 'gyhbus1',\n",
        "       'gyhkin1', 'gyhneg1', 'gyhspa1', 'gytbar1', 'hadibi1', 'hamerk1',\n",
        "       'hartur1', 'helgui', 'hipbab1', 'hoopoe', 'huncis1', 'hunsun2',\n",
        "       'joygre1', 'kerspa2', 'klacuc1', 'kvbsun1', 'laudov1', 'lawgol',\n",
        "       'lesmaw1', 'lessts1', 'libeat1', 'litegr', 'litswi1', 'litwea1',\n",
        "       'loceag1', 'lotcor1', 'lotlap1', 'luebus1', 'mabeat1', 'macshr1',\n",
        "       'malkin1', 'marsto1', 'marsun2', 'mcptit1', 'meypar1', 'moccha1',\n",
        "       'mouwag1', 'ndcsun2', 'nobfly1', 'norbro1', 'norcro1', 'norfis1',\n",
        "       'norpuf1', 'nubwoo1', 'pabspa1', 'palfly2', 'palpri1', 'piecro1',\n",
        "       'piekin1', 'pitwhy', 'purgre2', 'pygbat1', 'quailf1', 'ratcis1',\n",
        "       'raybar1', 'rbsrob1', 'rebfir2', 'rebhor1', 'reboxp1', 'reccor',\n",
        "       'reccuc1', 'reedov1', 'refbar2', 'refcro1', 'reftin1', 'refwar2',\n",
        "       'rehblu1', 'rehwea1', 'reisee2', 'rerswa1', 'rewsta1', 'rindov',\n",
        "       'rocmar2', 'rostur1', 'ruegls1', 'rufcha2', 'sacibi2', 'sccsun2',\n",
        "       'scrcha1', 'scthon1', 'shesta1', 'sichor1', 'sincis1', 'slbgre1',\n",
        "       'slcbou1', 'sltnig1', 'sobfly1', 'somgre1', 'somtit4', 'soucit1',\n",
        "       'soufis1', 'spemou2', 'spepig1', 'spewea1', 'spfbar1', 'spfwea1',\n",
        "       'spmthr1', 'spwlap1', 'squher1', 'strher', 'strsee1', 'stusta1',\n",
        "       'subbus1', 'supsta1', 'tacsun1', 'tafpri1', 'tamdov1', 'thrnig1',\n",
        "       'trobou1', 'varsun2', 'vibsta2', 'vilwea1', 'vimwea1', 'walsta1',\n",
        "       'wbgbir1', 'wbrcha2', 'wbswea1', 'wfbeat1', 'whbcan1', 'whbcou1',\n",
        "       'whbcro2', 'whbtit5', 'whbwea1', 'whbwhe3', 'whcpri2', 'whctur2',\n",
        "       'wheslf1', 'whhsaw1', 'whihel1', 'whrshr1', 'witswa1', 'wlwwar',\n",
        "       'wookin1', 'woosan', 'wtbeat1', 'yebapa1', 'yebbar1', 'yebduc1',\n",
        "       'yebere1', 'yebgre1', 'yebsto1', 'yeccan1', 'yefcan', 'yelbis1',\n",
        "       'yenspu1', 'yertin1', 'yesbar1', 'yespet1', 'yetgre1', 'yewgre1'])\n",
        "\n",
        "\n",
        "cfg.n_classes = len(cfg.birds)\n",
        "\n",
        "\n",
        "# training\n",
        "cfg.lr = 0.001\n",
        "cfg.epochs = 30\n",
        "cfg.batch_size = 64\n",
        "cfg.batch_size_val = 16\n",
        "cfg.backbone = \"resnet34\"\n",
        "\n",
        "\n",
        "cfg.save_val_data = True\n",
        "cfg.mixed_precision = True\n",
        "\n",
        "cfg.mixup = True\n",
        "cfg.mix_beta = 1\n",
        "\n",
        "\n",
        "cfg.train_df1 = \"../input/birdclef-2023/train_metadata.csv\"\n",
        "cfg.train_df2 = \"../input/birdclef-22-duration/train_metadata_with_duration.csv\"\n",
        "\n",
        "\n",
        "cfg.device = 'cuda' if torch.cuda.is_available() else 'cpu'\n",
        "\n",
        "cfg.tr_collate_fn = None\n",
        "cfg.val_collate_fn = None\n",
        "cfg.val = False\n",
        "\n",
        "cfg.dev = False\n",
        "\n",
        "cfg"
      ]
    },
    {
      "cell_type": "markdown",
      "id": "80e6ef0b",
      "metadata": {
        "papermill": {
          "duration": 0.00514,
          "end_time": "2023-05-09T10:36:36.324507",
          "exception": false,
          "start_time": "2023-05-09T10:36:36.319367",
          "status": "completed"
        },
        "tags": [],
        "id": "80e6ef0b"
      },
      "source": [
        "# Dataset"
      ]
    },
    {
      "cell_type": "code",
      "execution_count": null,
      "id": "e4b8066b",
      "metadata": {
        "execution": {
          "iopub.execute_input": "2023-05-09T10:36:36.336616Z",
          "iopub.status.busy": "2023-05-09T10:36:36.336312Z",
          "iopub.status.idle": "2023-05-09T10:36:36.356675Z",
          "shell.execute_reply": "2023-05-09T10:36:36.355648Z"
        },
        "papermill": {
          "duration": 0.02897,
          "end_time": "2023-05-09T10:36:36.358630",
          "exception": false,
          "start_time": "2023-05-09T10:36:36.329660",
          "status": "completed"
        },
        "tags": [],
        "id": "e4b8066b"
      },
      "outputs": [],
      "source": [
        "def batch_to_device(batch, device):\n",
        "    batch_dict = {key: batch[key].to(device) for key in batch}\n",
        "    return batch_dict\n",
        "\n",
        "\n",
        "\n",
        "class CustomDataset(Dataset):\n",
        "    def __init__(self, df, cfg, aug, mode=\"train\"):\n",
        "\n",
        "        self.cfg = cfg\n",
        "        self.mode = mode\n",
        "        self.df = df.copy()\n",
        "\n",
        "        self.bird2id = {bird: idx for idx, bird in enumerate(cfg.birds)}\n",
        "        if self.mode == \"train\":\n",
        "            self.data_folder = cfg.train_data_folder\n",
        "            self.df = self.df[self.df[\"rating\"] >= self.cfg.min_rating]\n",
        "        elif self.mode == \"val\":\n",
        "            self.data_folder = cfg.val_data_folder\n",
        "        elif self.mode == \"test\":\n",
        "            self.data_folder = cfg.test_data_folder\n",
        "\n",
        "        self.fns = self.df[\"filename\"].unique()\n",
        "\n",
        "        self.df = self.setup_df()\n",
        "\n",
        "        self.aug_audio = cfg.train_aug\n",
        "\n",
        "    def setup_df(self):\n",
        "        df = self.df.copy()\n",
        "\n",
        "        if self.mode == \"train\":\n",
        "\n",
        "            df[\"weight\"] = np.clip(df[\"rating\"] / df[\"rating\"].max(), 0.1, 1.0)\n",
        "            df['target'] = df['primary_label'].apply(self.bird2id.get)\n",
        "            labels = np.eye(self.cfg.n_classes)[df[\"target\"].astype(int).values]\n",
        "            label2 = df[\"secondary_labels\"].apply(lambda x: self.secondary2target(x)).values\n",
        "            for i, t in enumerate(label2):\n",
        "                labels[i, t] = 1\n",
        "        else:\n",
        "            targets = df[\"birds\"].apply(lambda x: self.birds2target(x)).values\n",
        "            labels = np.zeros((df.shape[0], self.cfg.n_classes))\n",
        "            for i, t in enumerate(targets):\n",
        "                labels[i, t] = 1\n",
        "\n",
        "        df[[f\"t{i}\" for i in range(self.cfg.n_classes)]] = labels\n",
        "\n",
        "        if self.mode != \"train\":\n",
        "            df = df.groupby(\"filename\")\n",
        "\n",
        "        return df\n",
        "\n",
        "    def __getitem__(self, idx):\n",
        "\n",
        "        if self.mode == \"train\":\n",
        "            row = self.df.iloc[idx]\n",
        "            fn = row[\"filename\"]\n",
        "            label = row[[f\"t{i}\" for i in range(self.cfg.n_classes)]].values\n",
        "            weight = row[\"weight\"]\n",
        "            #fold = row[\"fold\"]\n",
        "            fold = -1\n",
        "\n",
        "            #wav_len = row[\"length\"]\n",
        "            parts = 1\n",
        "        else:\n",
        "            fn = self.fns[idx]\n",
        "            row = self.df.get_group(fn)\n",
        "            label = row[[f\"t{i}\" for i in range(self.cfg.n_classes)]].values\n",
        "            wav_len = None\n",
        "            parts = label.shape[0]\n",
        "            fold = -1\n",
        "            weight = 1\n",
        "\n",
        "        if self.mode == \"train\":\n",
        "            #wav_len_sec = wav_len / self.cfg.sample_rate\n",
        "            wav_len_sec = row['duration']\n",
        "            duration = self.cfg.wav_crop_len\n",
        "            max_offset = wav_len_sec - duration\n",
        "            max_offset = max(max_offset, 1)\n",
        "            offset = np.random.randint(max_offset)\n",
        "        else:\n",
        "            offset = 0.0\n",
        "            duration = None\n",
        "\n",
        "        wav = self.load_one(fn, offset, duration)\n",
        "\n",
        "        if wav.shape[0] < (self.cfg.wav_crop_len * self.cfg.sample_rate):\n",
        "            pad = self.cfg.wav_crop_len * self.cfg.sample_rate - wav.shape[0]\n",
        "            wav = np.pad(wav, (0, pad))\n",
        "\n",
        "        if self.mode == \"train\":\n",
        "            if self.aug_audio:\n",
        "                wav = self.aug_audio(samples=wav, sample_rate=self.cfg.sample_rate)\n",
        "        else:\n",
        "            if self.cfg.val_aug:\n",
        "                wav = self.cfg.val_aug(samples=wav, sample_rate=self.cfg.sample_rate)\n",
        "\n",
        "        wav_tensor = torch.tensor(wav)  # (n_samples)\n",
        "        if parts > 1:\n",
        "            n_samples = wav_tensor.shape[0]\n",
        "            wav_tensor = wav_tensor[: n_samples // parts * parts].reshape(\n",
        "                parts, n_samples // parts\n",
        "            )\n",
        "\n",
        "        feature_dict = {\n",
        "            \"input\": wav_tensor,\n",
        "            \"target\": torch.tensor(label.astype(np.float32)),\n",
        "            \"weight\": torch.tensor(weight),\n",
        "            \"fold\": torch.tensor(fold),\n",
        "        }\n",
        "        return feature_dict\n",
        "\n",
        "    def __len__(self):\n",
        "        if cfg.dev:\n",
        "            return 256\n",
        "        return len(self.fns)\n",
        "\n",
        "    def load_one(self, id_, offset, duration):\n",
        "        fp = self.data_folder + id_\n",
        "        try:\n",
        "            wav, sr = librosa.load(fp, sr=None, offset=offset, duration=duration)\n",
        "        except:\n",
        "            print(\"FAIL READING rec\", fp)\n",
        "\n",
        "        return wav\n",
        "\n",
        "    def birds2target(self, birds):\n",
        "        birds = birds.split()\n",
        "        target = [self.bird2id.get(item) for item in birds if not item == \"nocall\"]\n",
        "        return target\n",
        "\n",
        "    def secondary2target(self, secondary_label):\n",
        "        birds = ast.literal_eval(secondary_label)\n",
        "        target = [self.bird2id.get(item) for item in birds if not item == \"nocall\"]\n",
        "        return target\n"
      ]
    },
    {
      "cell_type": "markdown",
      "id": "58e396bf",
      "metadata": {
        "papermill": {
          "duration": 0.00505,
          "end_time": "2023-05-09T10:36:36.369160",
          "exception": false,
          "start_time": "2023-05-09T10:36:36.364110",
          "status": "completed"
        },
        "tags": [],
        "id": "58e396bf"
      },
      "source": [
        "# Dataset related utils"
      ]
    },
    {
      "cell_type": "code",
      "execution_count": null,
      "id": "83e3adc0",
      "metadata": {
        "execution": {
          "iopub.execute_input": "2023-05-09T10:36:36.380859Z",
          "iopub.status.busy": "2023-05-09T10:36:36.380552Z",
          "iopub.status.idle": "2023-05-09T10:36:36.388240Z",
          "shell.execute_reply": "2023-05-09T10:36:36.387371Z"
        },
        "papermill": {
          "duration": 0.015781,
          "end_time": "2023-05-09T10:36:36.390158",
          "exception": false,
          "start_time": "2023-05-09T10:36:36.374377",
          "status": "completed"
        },
        "tags": [],
        "id": "83e3adc0"
      },
      "outputs": [],
      "source": [
        "def worker_init_fn(worker_id):\n",
        "    np.random.seed(np.random.get_state()[1][0] + worker_id)\n",
        "\n",
        "\n",
        "def get_train_dataloader(train_ds, cfg):\n",
        "    train_dataloader = DataLoader(\n",
        "        train_ds,\n",
        "        sampler=None,\n",
        "        shuffle=True,\n",
        "        batch_size=cfg.batch_size,\n",
        "        num_workers=cfg.num_workers,\n",
        "        pin_memory=False,\n",
        "        collate_fn=cfg.tr_collate_fn,\n",
        "        drop_last=cfg.drop_last,\n",
        "        worker_init_fn=worker_init_fn,\n",
        "    )\n",
        "    print(f\"train: dataset {len(train_ds)}, dataloader {len(train_dataloader)}\")\n",
        "    return train_dataloader\n",
        "\n",
        "\n",
        "def get_scheduler(cfg, optimizer, total_steps):\n",
        "    scheduler = get_cosine_schedule_with_warmup(\n",
        "        optimizer,\n",
        "        num_warmup_steps=cfg.warmup * (total_steps // cfg.batch_size),\n",
        "        num_training_steps=cfg.epochs * (total_steps // cfg.batch_size),\n",
        "    )\n",
        "    return scheduler\n",
        "\n",
        "def get_file_duration(file_path):\n",
        "    sound, sr = librosa.load(file_path)\n",
        "\n",
        "    return librosa.get_duration(y=sound, sr=sr)\n",
        "\n",
        "def load_df(cfg):\n",
        "    train_df1 = pd.read_csv(cfg.train_df1)\n",
        "    #train_df1['duration'] = train_df1['filename'].apply(lambda x:get_file_duration(cfg.train_data_folder+x))\n",
        "    train_df2 = pd.read_csv(cfg.train_df2, names=train_df1.columns.tolist() + ['duration'])\n",
        "    train_df = pd.merge(train_df1[['primary_label', 'secondary_labels', 'rating', 'filename']], train_df2[['filename', 'duration']], how='inner', on='filename')\n",
        "    return train_df\n"
      ]
    },
    {
      "cell_type": "markdown",
      "id": "72a50a87",
      "metadata": {
        "papermill": {
          "duration": 0.005303,
          "end_time": "2023-05-09T10:36:36.400639",
          "exception": false,
          "start_time": "2023-05-09T10:36:36.395336",
          "status": "completed"
        },
        "tags": [],
        "id": "72a50a87"
      },
      "source": [
        "# GeM and Mix-up"
      ]
    },
    {
      "cell_type": "code",
      "execution_count": null,
      "id": "829e59e3",
      "metadata": {
        "execution": {
          "iopub.execute_input": "2023-05-09T10:36:36.412385Z",
          "iopub.status.busy": "2023-05-09T10:36:36.411707Z",
          "iopub.status.idle": "2023-05-09T10:36:36.422397Z",
          "shell.execute_reply": "2023-05-09T10:36:36.421638Z"
        },
        "papermill": {
          "duration": 0.018344,
          "end_time": "2023-05-09T10:36:36.424185",
          "exception": false,
          "start_time": "2023-05-09T10:36:36.405841",
          "status": "completed"
        },
        "tags": [],
        "id": "829e59e3"
      },
      "outputs": [],
      "source": [
        "def gem(x, p=3, eps=1e-6):\n",
        "    return F.avg_pool2d(x.clamp(min=eps).pow(p), (x.size(-2), x.size(-1))).pow(1.0 / p)\n",
        "\n",
        "\n",
        "class GeM(nn.Module):\n",
        "    # Generalized mean: https://arxiv.org/abs/1711.02512\n",
        "    def __init__(self, p=3, eps=1e-6):\n",
        "        super(GeM, self).__init__()\n",
        "        self.p = Parameter(torch.ones(1) * p)\n",
        "        self.eps = eps\n",
        "\n",
        "    def forward(self, x):\n",
        "        ret = gem(x, p=self.p, eps=self.eps)\n",
        "        return ret\n",
        "\n",
        "    def __repr__(self):\n",
        "        return (self.__class__.__name__+ \"(p=\"+ \"{:.4f}\".format(self.p.data.tolist()[0])+ \", eps=\"+ str(self.eps)+ \")\")\n",
        "\n",
        "\n",
        "class Mixup(nn.Module):\n",
        "    def __init__(self, mix_beta):\n",
        "\n",
        "        super(Mixup, self).__init__()\n",
        "        self.beta_distribution = Beta(mix_beta, mix_beta)\n",
        "\n",
        "    def forward(self, X, Y, weight=None):\n",
        "\n",
        "        bs = X.shape[0]\n",
        "        n_dims = len(X.shape)\n",
        "        perm = torch.randperm(bs)\n",
        "        coeffs = self.beta_distribution.rsample(torch.Size((bs,))).to(X.device)\n",
        "\n",
        "        if n_dims == 2:\n",
        "            X = coeffs.view(-1, 1) * X + (1 - coeffs.view(-1, 1)) * X[perm]\n",
        "        elif n_dims == 3:\n",
        "            X = coeffs.view(-1, 1, 1) * X + (1 - coeffs.view(-1, 1, 1)) * X[perm]\n",
        "        else:\n",
        "            X = coeffs.view(-1, 1, 1, 1) * X + (1 - coeffs.view(-1, 1, 1, 1)) * X[perm]\n",
        "\n",
        "        Y = coeffs.view(-1, 1) * Y + (1 - coeffs.view(-1, 1)) * Y[perm]\n",
        "\n",
        "        if weight is None:\n",
        "            return X, Y\n",
        "        else:\n",
        "            weight = coeffs.view(-1) * weight + (1 - coeffs.view(-1)) * weight[perm]\n",
        "            return X, Y, weight\n"
      ]
    },
    {
      "cell_type": "markdown",
      "id": "eff69bd8",
      "metadata": {
        "papermill": {
          "duration": 0.004972,
          "end_time": "2023-05-09T10:36:36.434513",
          "exception": false,
          "start_time": "2023-05-09T10:36:36.429541",
          "status": "completed"
        },
        "tags": [],
        "id": "eff69bd8"
      },
      "source": [
        "# Model"
      ]
    },
    {
      "cell_type": "code",
      "execution_count": null,
      "id": "7bfc5067",
      "metadata": {
        "_cell_guid": "b1076dfc-b9ad-4769-8c92-a6c4dae69d19",
        "_uuid": "8f2839f25d086af736a60e9eeb907d3b93b6e0e5",
        "execution": {
          "iopub.execute_input": "2023-05-09T10:36:36.446757Z",
          "iopub.status.busy": "2023-05-09T10:36:36.446482Z",
          "iopub.status.idle": "2023-05-09T10:36:36.462258Z",
          "shell.execute_reply": "2023-05-09T10:36:36.461437Z"
        },
        "papermill": {
          "duration": 0.024111,
          "end_time": "2023-05-09T10:36:36.464007",
          "exception": false,
          "start_time": "2023-05-09T10:36:36.439896",
          "status": "completed"
        },
        "tags": [],
        "id": "7bfc5067"
      },
      "outputs": [],
      "source": [
        "class Net(nn.Module):\n",
        "    def __init__(self, cfg):\n",
        "        super(Net, self).__init__()\n",
        "\n",
        "        self.cfg = cfg\n",
        "\n",
        "        self.n_classes = cfg.n_classes\n",
        "\n",
        "        self.mel_spec = ta.transforms.MelSpectrogram(\n",
        "            sample_rate=cfg.sample_rate,\n",
        "            n_fft=cfg.window_size,\n",
        "            win_length=cfg.window_size,\n",
        "            f_min=cfg.fmin,\n",
        "            f_max=cfg.fmax,\n",
        "            pad=0,\n",
        "            n_mels=cfg.mel_bins,\n",
        "            hop_length=cfg.hop_size,\n",
        "            power=cfg.power,\n",
        "            normalized=False,\n",
        "        )\n",
        "\n",
        "        self.amplitude_to_db = ta.transforms.AmplitudeToDB(top_db=cfg.top_db)\n",
        "        self.wav2img = torch.nn.Sequential(self.mel_spec, self.amplitude_to_db)\n",
        "        self.masking = torchaudio.transforms.FrequencyMasking(freq_mask_param=10)\n",
        "        self.backbone = timm.create_model(\n",
        "            cfg.backbone,\n",
        "            pretrained=cfg.pretrained,\n",
        "            num_classes=0,\n",
        "            global_pool=\"\",\n",
        "            in_chans=cfg.in_chans,\n",
        "        )\n",
        "\n",
        "        if \"efficientnet\" in cfg.backbone:\n",
        "            backbone_out = self.backbone.num_features\n",
        "        else:\n",
        "            backbone_out = self.backbone.feature_info[-1][\"num_chs\"]\n",
        "\n",
        "        self.global_pool = GeM()\n",
        "\n",
        "        self.dropout = nn.Dropout(0.2)\n",
        "        self.dropout_1 = nn.Dropout(0.1)\n",
        "        self.dropout_2 = nn.Dropout(0.2)\n",
        "        self.dropout_3 = nn.Dropout(0.3)\n",
        "        self.dropout_4 = nn.Dropout(0.4)\n",
        "        self.dropout_5 = nn.Dropout(0.5)\n",
        "        self.head_23 = nn.Linear(backbone_out, self.n_classes)\n",
        "\n",
        "        if cfg.pretrained_weights is not None:\n",
        "            sd = torch.load(cfg.pretrained_weights, map_location=\"cpu\")[\"model\"]\n",
        "            sd = {k.replace(\"module.\", \"\"): v for k, v in sd.items()}\n",
        "            self.load_state_dict(sd, strict=True)\n",
        "            print(\"weights loaded from\", cfg.pretrained_weights)\n",
        "        self.loss_fn = nn.BCEWithLogitsLoss(reduction=\"none\")\n",
        "\n",
        "        self.mixup = Mixup(mix_beta=cfg.mix_beta)\n",
        "\n",
        "        self.factor = int(cfg.wav_crop_len / 5.0)\n",
        "\n",
        "    def forward(self, batch):\n",
        "\n",
        "        if not self.training:\n",
        "            x = batch[\"input\"]\n",
        "            bs, parts, time = x.shape\n",
        "            x = x.reshape(parts, time)\n",
        "            y = batch[\"target\"]\n",
        "            y = y[0]\n",
        "        else:\n",
        "\n",
        "            x = batch[\"input\"]\n",
        "            y = batch[\"target\"]\n",
        "            bs, time = x.shape\n",
        "            x = x.reshape(bs * self.factor, time // self.factor)\n",
        "\n",
        "        with autocast(enabled=False):\n",
        "            x = self.masking(self.wav2img(x))  # (bs, mel, time)\n",
        "            if self.cfg.mel_norm:\n",
        "                x = (x + 80) / 80\n",
        "\n",
        "        x = x.permute(0, 2, 1)\n",
        "        x = x[:, None, :, :]\n",
        "\n",
        "        weight = batch[\"weight\"]\n",
        "\n",
        "        if self.training:\n",
        "            b, c, t, f = x.shape\n",
        "            x = x.permute(0, 2, 1, 3)\n",
        "            x = x.reshape(b // self.factor, self.factor * t, c, f)\n",
        "\n",
        "            if self.cfg.mixup:\n",
        "                x, y, weight = self.mixup(x, y, weight)\n",
        "            if self.cfg.mixup2:\n",
        "                x, y, weight = self.mixup(x, y, weight)\n",
        "\n",
        "            x = x.reshape(b, t, c, f)\n",
        "            x = x.permute(0, 2, 1, 3)\n",
        "\n",
        "        #print(x.shape)\n",
        "        # multi drop out\n",
        "        x = self.backbone(x)\n",
        "\n",
        "#         x = (self.dropout_1(x) +\n",
        "#              self.dropout_2(x) +\n",
        "#              self.dropout_3(x) +\n",
        "#              self.dropout_4(x) +\n",
        "#              self.dropout_5(x)\n",
        "#             ) / 5\n",
        "\n",
        "\n",
        "        if self.training:\n",
        "            b, c, t, f = x.shape\n",
        "            x = x.permute(0, 2, 1, 3)\n",
        "            x = x.reshape(b // self.factor, self.factor * t, c, f)\n",
        "            x = x.permute(0, 2, 1, 3)\n",
        "        x = self.global_pool(x)\n",
        "        x = x[:, :, 0, 0]\n",
        "        logits = self.head_23(self.dropout(x))\n",
        "\n",
        "        loss = self.loss_fn(logits, y)\n",
        "        loss = (loss.mean(dim=1) * weight) / weight.sum()\n",
        "        loss = loss.sum()\n",
        "\n",
        "        return {\"loss\": loss, \"logits\": logits.sigmoid(), \"logits_raw\": logits, \"target\": y}\n"
      ]
    },
    {
      "cell_type": "code",
      "execution_count": null,
      "id": "7f43ae1d",
      "metadata": {
        "execution": {
          "iopub.execute_input": "2023-05-09T10:36:36.476218Z",
          "iopub.status.busy": "2023-05-09T10:36:36.475393Z",
          "iopub.status.idle": "2023-05-09T10:36:36.481109Z",
          "shell.execute_reply": "2023-05-09T10:36:36.480224Z"
        },
        "papermill": {
          "duration": 0.013771,
          "end_time": "2023-05-09T10:36:36.482939",
          "exception": false,
          "start_time": "2023-05-09T10:36:36.469168",
          "status": "completed"
        },
        "tags": [],
        "id": "7f43ae1d"
      },
      "outputs": [],
      "source": [
        "def create_checkpoint(model, optimizer, epoch, scheduler=None, scaler=None):\n",
        "    checkpoint = {\n",
        "        \"model\": model.state_dict(),\n",
        "        \"optimizer\": optimizer.state_dict(),\n",
        "        \"epoch\": epoch,\n",
        "    }\n",
        "\n",
        "    if scheduler is not None:\n",
        "        checkpoint[\"scheduler\"] = scheduler.state_dict()\n",
        "\n",
        "    if scaler is not None:\n",
        "        checkpoint[\"scaler\"] = scaler.state_dict()\n",
        "    return checkpoint"
      ]
    },
    {
      "cell_type": "code",
      "execution_count": null,
      "id": "cefafb06",
      "metadata": {
        "execution": {
          "iopub.execute_input": "2023-05-09T10:36:36.495139Z",
          "iopub.status.busy": "2023-05-09T10:36:36.494290Z",
          "iopub.status.idle": "2023-05-09T10:36:36.502470Z",
          "shell.execute_reply": "2023-05-09T10:36:36.501634Z"
        },
        "papermill": {
          "duration": 0.016087,
          "end_time": "2023-05-09T10:36:36.504232",
          "exception": false,
          "start_time": "2023-05-09T10:36:36.488145",
          "status": "completed"
        },
        "tags": [],
        "id": "cefafb06"
      },
      "outputs": [],
      "source": [
        "class EMA():\n",
        "    def __init__(self, model, decay):\n",
        "        self.model = model\n",
        "        self.decay = decay\n",
        "        self.shadow = {}\n",
        "        self.backup = {}\n",
        "\n",
        "    def register(self):\n",
        "        for name, param in self.model.named_parameters():\n",
        "            if param.requires_grad:\n",
        "                self.shadow[name] = param.data.clone()\n",
        "\n",
        "    def update(self):\n",
        "        for name, param in self.model.named_parameters():\n",
        "            if param.requires_grad:\n",
        "                assert name in self.shadow\n",
        "                new_average = (1.0 - self.decay) * param.data + self.decay * self.shadow[name]\n",
        "                self.shadow[name] = new_average.clone()\n",
        "\n",
        "    def apply_shadow(self):\n",
        "        for name, param in self.model.named_parameters():\n",
        "            if param.requires_grad:\n",
        "                assert name in self.shadow\n",
        "                self.backup[name] = param.data\n",
        "                param.data = self.shadow[name]\n",
        "\n",
        "    def restore(self):\n",
        "        for name, param in self.model.named_parameters():\n",
        "            if param.requires_grad:\n",
        "                assert name in self.backup\n",
        "                param.data = self.backup[name]\n",
        "        self.backup = {}"
      ]
    },
    {
      "cell_type": "code",
      "execution_count": null,
      "id": "9a345b14",
      "metadata": {
        "execution": {
          "iopub.execute_input": "2023-05-09T10:36:36.516439Z",
          "iopub.status.busy": "2023-05-09T10:36:36.515509Z",
          "iopub.status.idle": "2023-05-09T10:36:47.714915Z",
          "shell.execute_reply": "2023-05-09T10:36:47.713891Z"
        },
        "papermill": {
          "duration": 11.208193,
          "end_time": "2023-05-09T10:36:47.717530",
          "exception": false,
          "start_time": "2023-05-09T10:36:36.509337",
          "status": "completed"
        },
        "scrolled": true,
        "tags": [],
        "id": "9a345b14",
        "outputId": "48e0ab7d-2834-465f-bd8c-d8d288132ea3"
      },
      "outputs": [
        {
          "name": "stdout",
          "output_type": "stream",
          "text": [
            "train: dataset 16113, dataloader 251\n"
          ]
        },
        {
          "name": "stderr",
          "output_type": "stream",
          "text": [
            "Downloading: \"https://github.com/rwightman/pytorch-image-models/releases/download/v0.1-weights/resnet34-43635321.pth\" to /root/.cache/torch/hub/checkpoints/resnet34-43635321.pth\n"
          ]
        }
      ],
      "source": [
        "\n",
        "set_seed(cfg.seed)\n",
        "\n",
        "\n",
        "#val_df = pd.read_csv(cfg.val_df)\n",
        "#val_dataset = CustomDataset(val_df, cfg, aug=cfg.val_aug, mode=\"val\")\n",
        "\n",
        "train_df = load_df(cfg)\n",
        "\n",
        "train_dataset = CustomDataset(train_df, cfg, aug=cfg.train_aug, mode=\"train\")\n",
        "train_dataloader = get_train_dataloader(train_dataset, cfg)\n",
        "model = Net(cfg)\n",
        "model.load_state_dict(torch.load('/kaggle/input/birdclef-22-duration/checkpoint_last_seed123_15.pth')['model'], strict=False)\n",
        "model.to(cfg.device)\n",
        "\n",
        "total_steps = len(train_dataset)\n",
        "\n",
        "params = model.parameters()\n",
        "## liner\n",
        "def get_optimizer_params(model, encoder_lr, decoder_lr, weight_decay=1e-5):\n",
        "\n",
        "    no_decay = [\"bias\", \"LayerNorm.bias\", \"LayerNorm.weight\"]\n",
        "    optimizer_parameters = [\n",
        "        {'params': [p for n, p in model.backbone.named_parameters() if not any(nd in n for nd in no_decay)],\n",
        "         'lr': encoder_lr, 'weight_decay': weight_decay},\n",
        "        {'params': [p for n, p in model.backbone.named_parameters() if any(nd in n for nd in no_decay)],\n",
        "         'lr': encoder_lr, 'weight_decay': 0.0},\n",
        "        {'params': [p for n, p in model.named_parameters() if 'backbone' not in n],\n",
        "         'lr': decoder_lr, 'weight_decay': weight_decay}\n",
        "    ]\n",
        "    return optimizer_parameters\n",
        "\n",
        "optimizer_parameters = get_optimizer_params(model,\n",
        "                                            encoder_lr=cfg.lr,\n",
        "                                            decoder_lr=cfg.lr*1.2,\n",
        "                                            weight_decay=0)\n",
        "optimizer = optim.AdamW(optimizer_parameters, lr=cfg.lr, weight_decay=1e-5)\n",
        "scheduler = get_scheduler(cfg, optimizer, total_steps)\n",
        "\n",
        "\n",
        "device = cfg.device"
      ]
    },
    {
      "cell_type": "code",
      "execution_count": null,
      "id": "1c2e1a00",
      "metadata": {
        "execution": {
          "iopub.execute_input": "2023-05-09T10:36:47.732398Z",
          "iopub.status.busy": "2023-05-09T10:36:47.730773Z",
          "iopub.status.idle": "2023-05-09T10:36:47.736534Z",
          "shell.execute_reply": "2023-05-09T10:36:47.735615Z"
        },
        "papermill": {
          "duration": 0.014902,
          "end_time": "2023-05-09T10:36:47.738450",
          "exception": false,
          "start_time": "2023-05-09T10:36:47.723548",
          "status": "completed"
        },
        "scrolled": true,
        "tags": [],
        "id": "1c2e1a00"
      },
      "outputs": [],
      "source": [
        "#[i for i in model.named_parameters()]"
      ]
    },
    {
      "cell_type": "code",
      "execution_count": null,
      "id": "a7546c05",
      "metadata": {
        "execution": {
          "iopub.execute_input": "2023-05-09T10:36:47.751717Z",
          "iopub.status.busy": "2023-05-09T10:36:47.750243Z",
          "iopub.status.idle": "2023-05-09T10:36:47.755250Z",
          "shell.execute_reply": "2023-05-09T10:36:47.754400Z"
        },
        "papermill": {
          "duration": 0.013437,
          "end_time": "2023-05-09T10:36:47.757323",
          "exception": false,
          "start_time": "2023-05-09T10:36:47.743886",
          "status": "completed"
        },
        "tags": [],
        "id": "a7546c05"
      },
      "outputs": [],
      "source": [
        "#!ls -l /root/.cache/torch/hub/checkpoints/"
      ]
    },
    {
      "cell_type": "code",
      "execution_count": null,
      "id": "be16c21c",
      "metadata": {
        "execution": {
          "iopub.execute_input": "2023-05-09T10:36:47.770417Z",
          "iopub.status.busy": "2023-05-09T10:36:47.769117Z",
          "iopub.status.idle": "2023-05-09T10:36:47.774096Z",
          "shell.execute_reply": "2023-05-09T10:36:47.773314Z"
        },
        "papermill": {
          "duration": 0.013142,
          "end_time": "2023-05-09T10:36:47.775956",
          "exception": false,
          "start_time": "2023-05-09T10:36:47.762814",
          "status": "completed"
        },
        "tags": [],
        "id": "be16c21c"
      },
      "outputs": [],
      "source": [
        "#!cp /root/.cache/torch/hub/checkpoints/resnet34-43635321.pth ."
      ]
    },
    {
      "cell_type": "code",
      "execution_count": null,
      "id": "7a9acbb7",
      "metadata": {
        "execution": {
          "iopub.execute_input": "2023-05-09T10:36:47.788201Z",
          "iopub.status.busy": "2023-05-09T10:36:47.787938Z",
          "iopub.status.idle": "2023-05-09T14:34:53.729085Z",
          "shell.execute_reply": "2023-05-09T14:34:53.727759Z"
        },
        "papermill": {
          "duration": 14285.95312,
          "end_time": "2023-05-09T14:34:53.734561",
          "exception": false,
          "start_time": "2023-05-09T10:36:47.781441",
          "status": "completed"
        },
        "tags": [],
        "id": "7a9acbb7",
        "outputId": "9caee00c-4b2d-4f0b-cb03-b014b8e565c2"
      },
      "outputs": [
        {
          "name": "stdout",
          "output_type": "stream",
          "text": [
            "EPOCH: 0\n"
          ]
        },
        {
          "name": "stderr",
          "output_type": "stream",
          "text": [
            "loss: 0.0233: 100%|██████████| 251/251 [08:20<00:00,  1.99s/it]\n"
          ]
        },
        {
          "name": "stdout",
          "output_type": "stream",
          "text": [
            "EPOCH: 1\n"
          ]
        },
        {
          "name": "stderr",
          "output_type": "stream",
          "text": [
            "loss: 0.0218: 100%|██████████| 251/251 [07:50<00:00,  1.87s/it]\n"
          ]
        },
        {
          "name": "stdout",
          "output_type": "stream",
          "text": [
            "EPOCH: 2\n"
          ]
        },
        {
          "name": "stderr",
          "output_type": "stream",
          "text": [
            "loss: 0.0196: 100%|██████████| 251/251 [07:53<00:00,  1.89s/it]\n"
          ]
        },
        {
          "name": "stdout",
          "output_type": "stream",
          "text": [
            "EPOCH: 3\n"
          ]
        },
        {
          "name": "stderr",
          "output_type": "stream",
          "text": [
            "loss: 0.0190: 100%|██████████| 251/251 [07:53<00:00,  1.89s/it]\n"
          ]
        },
        {
          "name": "stdout",
          "output_type": "stream",
          "text": [
            "EPOCH: 4\n"
          ]
        },
        {
          "name": "stderr",
          "output_type": "stream",
          "text": [
            "loss: 0.0185: 100%|██████████| 251/251 [07:50<00:00,  1.88s/it]\n"
          ]
        },
        {
          "name": "stdout",
          "output_type": "stream",
          "text": [
            "EPOCH: 5\n"
          ]
        },
        {
          "name": "stderr",
          "output_type": "stream",
          "text": [
            "loss: 0.0166: 100%|██████████| 251/251 [07:53<00:00,  1.89s/it]\n"
          ]
        },
        {
          "name": "stdout",
          "output_type": "stream",
          "text": [
            "EPOCH: 6\n"
          ]
        },
        {
          "name": "stderr",
          "output_type": "stream",
          "text": [
            "loss: 0.0169: 100%|██████████| 251/251 [07:52<00:00,  1.88s/it]\n"
          ]
        },
        {
          "name": "stdout",
          "output_type": "stream",
          "text": [
            "EPOCH: 7\n"
          ]
        },
        {
          "name": "stderr",
          "output_type": "stream",
          "text": [
            "loss: 0.0163: 100%|██████████| 251/251 [07:51<00:00,  1.88s/it]\n"
          ]
        },
        {
          "name": "stdout",
          "output_type": "stream",
          "text": [
            "EPOCH: 8\n"
          ]
        },
        {
          "name": "stderr",
          "output_type": "stream",
          "text": [
            "loss: 0.0148: 100%|██████████| 251/251 [07:53<00:00,  1.88s/it]\n"
          ]
        },
        {
          "name": "stdout",
          "output_type": "stream",
          "text": [
            "EPOCH: 9\n"
          ]
        },
        {
          "name": "stderr",
          "output_type": "stream",
          "text": [
            "loss: 0.0148: 100%|██████████| 251/251 [07:52<00:00,  1.88s/it]\n"
          ]
        },
        {
          "name": "stdout",
          "output_type": "stream",
          "text": [
            "EPOCH: 10\n"
          ]
        },
        {
          "name": "stderr",
          "output_type": "stream",
          "text": [
            "loss: 0.0153: 100%|██████████| 251/251 [07:50<00:00,  1.88s/it]\n"
          ]
        },
        {
          "name": "stdout",
          "output_type": "stream",
          "text": [
            "EPOCH: 11\n"
          ]
        },
        {
          "name": "stderr",
          "output_type": "stream",
          "text": [
            "loss: 0.0141: 100%|██████████| 251/251 [07:52<00:00,  1.88s/it]\n"
          ]
        },
        {
          "name": "stdout",
          "output_type": "stream",
          "text": [
            "EPOCH: 12\n"
          ]
        },
        {
          "name": "stderr",
          "output_type": "stream",
          "text": [
            "loss: 0.0141: 100%|██████████| 251/251 [07:53<00:00,  1.89s/it]\n"
          ]
        },
        {
          "name": "stdout",
          "output_type": "stream",
          "text": [
            "EPOCH: 13\n"
          ]
        },
        {
          "name": "stderr",
          "output_type": "stream",
          "text": [
            "loss: 0.0131: 100%|██████████| 251/251 [07:55<00:00,  1.89s/it]\n"
          ]
        },
        {
          "name": "stdout",
          "output_type": "stream",
          "text": [
            "EPOCH: 14\n"
          ]
        },
        {
          "name": "stderr",
          "output_type": "stream",
          "text": [
            "loss: 0.0129: 100%|██████████| 251/251 [07:53<00:00,  1.89s/it]\n"
          ]
        },
        {
          "name": "stdout",
          "output_type": "stream",
          "text": [
            "EPOCH: 15\n"
          ]
        },
        {
          "name": "stderr",
          "output_type": "stream",
          "text": [
            "loss: 0.0125: 100%|██████████| 251/251 [07:55<00:00,  1.90s/it]\n"
          ]
        },
        {
          "name": "stdout",
          "output_type": "stream",
          "text": [
            "EPOCH: 16\n"
          ]
        },
        {
          "name": "stderr",
          "output_type": "stream",
          "text": [
            "loss: 0.0120: 100%|██████████| 251/251 [07:55<00:00,  1.90s/it]\n"
          ]
        },
        {
          "name": "stdout",
          "output_type": "stream",
          "text": [
            "EPOCH: 17\n"
          ]
        },
        {
          "name": "stderr",
          "output_type": "stream",
          "text": [
            "loss: 0.0114: 100%|██████████| 251/251 [07:57<00:00,  1.90s/it]\n"
          ]
        },
        {
          "name": "stdout",
          "output_type": "stream",
          "text": [
            "EPOCH: 18\n"
          ]
        },
        {
          "name": "stderr",
          "output_type": "stream",
          "text": [
            "loss: 0.0118: 100%|██████████| 251/251 [07:55<00:00,  1.90s/it]\n"
          ]
        },
        {
          "name": "stdout",
          "output_type": "stream",
          "text": [
            "EPOCH: 19\n"
          ]
        },
        {
          "name": "stderr",
          "output_type": "stream",
          "text": [
            "loss: 0.0111: 100%|██████████| 251/251 [07:56<00:00,  1.90s/it]\n"
          ]
        },
        {
          "name": "stdout",
          "output_type": "stream",
          "text": [
            "EPOCH: 20\n"
          ]
        },
        {
          "name": "stderr",
          "output_type": "stream",
          "text": [
            "loss: 0.0113: 100%|██████████| 251/251 [07:56<00:00,  1.90s/it]\n"
          ]
        },
        {
          "name": "stdout",
          "output_type": "stream",
          "text": [
            "EPOCH: 21\n"
          ]
        },
        {
          "name": "stderr",
          "output_type": "stream",
          "text": [
            "loss: 0.0113: 100%|██████████| 251/251 [07:56<00:00,  1.90s/it]\n"
          ]
        },
        {
          "name": "stdout",
          "output_type": "stream",
          "text": [
            "EPOCH: 22\n"
          ]
        },
        {
          "name": "stderr",
          "output_type": "stream",
          "text": [
            "loss: 0.0105: 100%|██████████| 251/251 [07:56<00:00,  1.90s/it]\n"
          ]
        },
        {
          "name": "stdout",
          "output_type": "stream",
          "text": [
            "EPOCH: 23\n"
          ]
        },
        {
          "name": "stderr",
          "output_type": "stream",
          "text": [
            "loss: 0.0105: 100%|██████████| 251/251 [07:54<00:00,  1.89s/it]\n"
          ]
        },
        {
          "name": "stdout",
          "output_type": "stream",
          "text": [
            "EPOCH: 24\n"
          ]
        },
        {
          "name": "stderr",
          "output_type": "stream",
          "text": [
            "loss: 0.0103: 100%|██████████| 251/251 [07:57<00:00,  1.90s/it]\n"
          ]
        },
        {
          "name": "stdout",
          "output_type": "stream",
          "text": [
            "EPOCH: 25\n"
          ]
        },
        {
          "name": "stderr",
          "output_type": "stream",
          "text": [
            "loss: 0.0095: 100%|██████████| 251/251 [07:57<00:00,  1.90s/it]\n"
          ]
        },
        {
          "name": "stdout",
          "output_type": "stream",
          "text": [
            "EPOCH: 26\n"
          ]
        },
        {
          "name": "stderr",
          "output_type": "stream",
          "text": [
            "loss: 0.0098: 100%|██████████| 251/251 [07:57<00:00,  1.90s/it]\n"
          ]
        },
        {
          "name": "stdout",
          "output_type": "stream",
          "text": [
            "EPOCH: 27\n"
          ]
        },
        {
          "name": "stderr",
          "output_type": "stream",
          "text": [
            "loss: 0.0104: 100%|██████████| 251/251 [07:58<00:00,  1.91s/it]\n"
          ]
        },
        {
          "name": "stdout",
          "output_type": "stream",
          "text": [
            "EPOCH: 28\n"
          ]
        },
        {
          "name": "stderr",
          "output_type": "stream",
          "text": [
            "loss: 0.0104: 100%|██████████| 251/251 [07:58<00:00,  1.91s/it]\n"
          ]
        },
        {
          "name": "stdout",
          "output_type": "stream",
          "text": [
            "EPOCH: 29\n"
          ]
        },
        {
          "name": "stderr",
          "output_type": "stream",
          "text": [
            "loss: 0.0104: 100%|██████████| 251/251 [07:58<00:00,  1.91s/it]\n"
          ]
        }
      ],
      "source": [
        "try:\n",
        "    os.makedirs(cfg.output_dir)\n",
        "except:\n",
        "    pass\n",
        "\n",
        "if cfg.mixed_precision:\n",
        "    scaler = GradScaler()\n",
        "else:\n",
        "    scaler = None\n",
        "\n",
        "\n",
        "cfg.curr_step = 0\n",
        "i = 0\n",
        "best_val_loss = np.inf\n",
        "optimizer.zero_grad()\n",
        "for epoch in range(cfg.epochs):\n",
        "\n",
        "    set_seed(cfg.seed + epoch)\n",
        "\n",
        "    cfg.curr_epoch = epoch\n",
        "\n",
        "    print(\"EPOCH:\", epoch)\n",
        "\n",
        "    progress_bar = tqdm(range(len(train_dataloader)))\n",
        "    tr_it = iter(train_dataloader)\n",
        "\n",
        "    losses = []\n",
        "\n",
        "    gc.collect()\n",
        "\n",
        "    if cfg.train:\n",
        "        # ==== TRAIN LOOP\n",
        "        for itr in progress_bar:\n",
        "            i += 1\n",
        "\n",
        "            cfg.curr_step += cfg.batch_size\n",
        "\n",
        "            data = next(tr_it)\n",
        "\n",
        "            model.train()\n",
        "            torch.set_grad_enabled(True)\n",
        "\n",
        "            batch = batch_to_device(data, device)\n",
        "\n",
        "            if cfg.mixed_precision:\n",
        "                with autocast():\n",
        "                    output_dict = model(batch)\n",
        "            else:\n",
        "                output_dict = model(batch)\n",
        "\n",
        "            loss = output_dict[\"loss\"]\n",
        "\n",
        "            losses.append(loss.item())\n",
        "\n",
        "            if cfg.mixed_precision:\n",
        "                scaler.scale(loss).backward()\n",
        "                scaler.step(optimizer)\n",
        "                scaler.update()\n",
        "                optimizer.zero_grad()\n",
        "            else:\n",
        "                loss.backward()\n",
        "                optimizer.step()\n",
        "                optimizer.zero_grad()\n",
        "\n",
        "            if scheduler is not None:\n",
        "                scheduler.step()\n",
        "\n",
        "            if cfg.curr_step % cfg.batch_size == 0:\n",
        "                progress_bar.set_description(f\"loss: {np.mean(losses[-10:]):.4f}\")\n",
        "\n",
        "    if cfg.val:\n",
        "        if (epoch + 1) % cfg.eval_epochs == 0 or (epoch + 1) == cfg.epochs:\n",
        "            val_loss = run_eval(model, val_dataloader, cfg)\n",
        "        else:\n",
        "            val_score = 0\n",
        "\n",
        "    if cfg.epochs > 0:\n",
        "        checkpoint = create_checkpoint(\n",
        "            model, optimizer, epoch, scheduler=scheduler, scaler=scaler\n",
        "        )\n",
        "\n",
        "        torch.save(checkpoint, f\"{cfg.output_dir}/checkpoint_last_seed{cfg.seed}_{epoch}.pth\")\n",
        "\n",
        "if cfg.epochs > 0:\n",
        "    checkpoint = create_checkpoint(model, optimizer, epoch, scheduler=scheduler, scaler=scaler)\n",
        "\n",
        "    torch.save(checkpoint, f\"{cfg.output_dir}/checkpoint_last_seed{cfg.seed}.pth\")"
      ]
    },
    {
      "cell_type": "markdown",
      "id": "3ff157c3",
      "metadata": {
        "papermill": {
          "duration": 0.816497,
          "end_time": "2023-05-09T14:34:55.456845",
          "exception": false,
          "start_time": "2023-05-09T14:34:54.640348",
          "status": "completed"
        },
        "tags": [],
        "id": "3ff157c3"
      },
      "source": [
        "## EMA"
      ]
    },
    {
      "cell_type": "code",
      "execution_count": null,
      "id": "2899a1fb",
      "metadata": {
        "execution": {
          "iopub.execute_input": "2023-05-09T14:34:57.189535Z",
          "iopub.status.busy": "2023-05-09T14:34:57.189126Z",
          "iopub.status.idle": "2023-05-09T14:34:57.196601Z",
          "shell.execute_reply": "2023-05-09T14:34:57.195610Z"
        },
        "papermill": {
          "duration": 0.921872,
          "end_time": "2023-05-09T14:34:57.198801",
          "exception": false,
          "start_time": "2023-05-09T14:34:56.276929",
          "status": "completed"
        },
        "tags": [],
        "id": "2899a1fb"
      },
      "outputs": [],
      "source": [
        "# ema = EMA(model, 0.999)\n",
        "# ema.register()\n",
        "\n",
        "# try:\n",
        "#     os.makedirs(cfg.output_dir)\n",
        "# except:\n",
        "#     pass\n",
        "\n",
        "# if cfg.mixed_precision:\n",
        "#     scaler = GradScaler()\n",
        "# else:\n",
        "#     scaler = None\n",
        "\n",
        "\n",
        "# cfg.curr_step = 0\n",
        "# i = 0\n",
        "# best_val_loss = np.inf\n",
        "# optimizer.zero_grad()\n",
        "# for epoch in range(cfg.epochs):\n",
        "\n",
        "#     set_seed(cfg.seed + epoch)\n",
        "\n",
        "#     cfg.curr_epoch = epoch\n",
        "\n",
        "#     print(\"EPOCH:\", epoch)\n",
        "\n",
        "#     progress_bar = tqdm(range(len(train_dataloader)))\n",
        "#     tr_it = iter(train_dataloader)\n",
        "\n",
        "#     losses = []\n",
        "\n",
        "#     gc.collect()\n",
        "\n",
        "#     if cfg.train:\n",
        "#         # ==== TRAIN LOOP\n",
        "#         for itr in progress_bar:\n",
        "#             i += 1\n",
        "\n",
        "#             cfg.curr_step += cfg.batch_size\n",
        "\n",
        "#             data = next(tr_it)\n",
        "\n",
        "#             model.train()\n",
        "#             torch.set_grad_enabled(True)\n",
        "\n",
        "#             batch = batch_to_device(data, device)\n",
        "\n",
        "#             if cfg.mixed_precision:\n",
        "#                 with autocast():\n",
        "#                     output_dict = model(batch)\n",
        "#             else:\n",
        "#                 output_dict = model(batch)\n",
        "\n",
        "#             loss = output_dict[\"loss\"]\n",
        "\n",
        "#             losses.append(loss.item())\n",
        "\n",
        "#             if cfg.mixed_precision:\n",
        "#                 scaler.scale(loss).backward()\n",
        "#                 scaler.step(optimizer)\n",
        "#                 scaler.update()\n",
        "#                 optimizer.zero_grad()\n",
        "#             else:\n",
        "#                 loss.backward()\n",
        "#                 optimizer.step()\n",
        "#                 optimizer.zero_grad()\n",
        "\n",
        "#             if scheduler is not None:\n",
        "#                 scheduler.step()\n",
        "#             ema.update()\n",
        "\n",
        "#             if cfg.curr_step % cfg.batch_size == 0:\n",
        "#                 progress_bar.set_description(f\"loss: {np.mean(losses[-10:]):.4f}\")\n",
        "\n",
        "#     if cfg.val:\n",
        "#         if (epoch + 1) % cfg.eval_epochs == 0 or (epoch + 1) == cfg.epochs:\n",
        "#             val_loss = run_eval(model, val_dataloader, cfg)\n",
        "#         else:\n",
        "#             val_score = 0\n",
        "\n",
        "#     if cfg.epochs > 0:\n",
        "#         checkpoint = create_checkpoint(\n",
        "#             model, optimizer, epoch, scheduler=scheduler, scaler=scaler\n",
        "#         )\n",
        "\n",
        "#         torch.save(checkpoint, f\"{cfg.output_dir}/checkpoint_last_seed{cfg.seed}_{epoch}.pth\")\n",
        "\n",
        "# if cfg.epochs > 0:\n",
        "#     checkpoint = create_checkpoint(model, optimizer, epoch, scheduler=scheduler, scaler=scaler)\n",
        "\n",
        "#     torch.save(checkpoint, f\"{cfg.output_dir}/checkpoint_last_seed{cfg.seed}.pth\")"
      ]
    }
  ],
  "metadata": {
    "kernelspec": {
      "display_name": "Python 3",
      "language": "python",
      "name": "python3"
    },
    "language_info": {
      "codemirror_mode": {
        "name": "ipython",
        "version": 3
      },
      "file_extension": ".py",
      "mimetype": "text/x-python",
      "name": "python",
      "nbconvert_exporter": "python",
      "pygments_lexer": "ipython3",
      "version": "3.10.10"
    },
    "papermill": {
      "default_parameters": {},
      "duration": 14329.575262,
      "end_time": "2023-05-09T14:35:01.460372",
      "environment_variables": {},
      "exception": null,
      "input_path": "__notebook__.ipynb",
      "output_path": "__notebook__.ipynb",
      "parameters": {},
      "start_time": "2023-05-09T10:36:11.885110",
      "version": "2.4.0"
    },
    "colab": {
      "provenance": []
    }
  },
  "nbformat": 4,
  "nbformat_minor": 5
}